{
 "cells": [
  {
   "cell_type": "code",
   "execution_count": 5,
   "id": "46524e4d-33d8-4f43-ab8c-a065e5255124",
   "metadata": {},
   "outputs": [],
   "source": [
    "from pathlib import Path\n",
    "\n",
    "SED_HOME = Path.home().joinpath('Documents').joinpath('sed')\n",
    "CDPP_DIR = SED_HOME.joinpath('CDPP')\n",
    "CDPP_EXAMPLES = CDPP_DIR.joinpath('examples')\n",
    "CDPP_SRC = CDPP_DIR.joinpath('src')\n",
    "CDPP_SCRIPTS = CDPP_DIR.joinpath('scripts')\n",
    "BASE_BIN = CDPP_SRC.joinpath('bin')\n",
    "CDPP_ATOMICS = CDPP_SRC.joinpath('cd++/atomics')"
   ]
  },
  {
   "cell_type": "code",
   "execution_count": 6,
   "id": "41a31a4f-97f0-4a60-af6d-9eb710033bb2",
   "metadata": {},
   "outputs": [
    {
     "name": "stdout",
     "output_type": "stream",
     "text": [
      "[top]\n",
      "components : barrier@barrier\n",
      "in : in_port\n",
      "out : out1_port done_port\n",
      "link : out1@barrier out1_port\n",
      "link : done@barrier done1_port\n",
      "link : in_port in@barrier"
     ]
    }
   ],
   "source": [
    "%%bash -s \"$CDPP_EXAMPLES\"\n",
    "\n",
    "cd $1/dc-sed-tp1-2022/model/\n",
    "\n",
    "cat barrier.ma"
   ]
  },
  {
   "cell_type": "code",
   "execution_count": 7,
   "id": "83c6a003-6c6e-4ddb-b825-b09589f06341",
   "metadata": {},
   "outputs": [
    {
     "name": "stdout",
     "output_type": "stream",
     "text": [
      "00:00:00:15 in_port 1\n",
      "00:00:00:30 in_port 1\n",
      "00:00:00:45 in_port 1\n",
      "00:00:01:20 in_port 1\n",
      "00:00:01:40 in_port 1\n",
      "00:00:03:10 in_port 1\n",
      "00:00:04:45 in_port 1\n",
      "00:02:08:45 in_port 1\n"
     ]
    }
   ],
   "source": [
    "%%bash -s \"$CDPP_EXAMPLES\"\n",
    "\n",
    "cd $1/dc-sed-tp1-2022/model/\n",
    "head barrier.ev"
   ]
  },
  {
   "cell_type": "code",
   "execution_count": 11,
   "id": "fa49b91b-4fd1-4018-a6c8-06566f0a5830",
   "metadata": {},
   "outputs": [
    {
     "name": "stdout",
     "output_type": "stream",
     "text": [
      "PCD++: A Tool to Implement n-Dimensional Cell-DEVS models\n",
      "Version 3.0 - March 2003\n",
      "Troccoli A., Rodriguez D., Wainer G., Barylko A., Beyoglonian J., Lopez A.\n",
      "-----------------------------------------------------------------------------\n",
      "PCD++ Extended States: An extended and improved version of CD++ for Cell-DEVS\n",
      "Version 4.1.2 - December 2018\n",
      "Santi L., Castro, R., Pimás, J.\n",
      "-----------------------------------------------------------------------------\n",
      "Discrete Event Simulation Lab\n",
      "Departamento de Computación\n",
      "Facultad de Ciencias Exactas y Naturales\n",
      "Universidad de Buenos Aires, Argentina\n",
      "-----------------------------------------------------------------------------\n",
      "Compiled for standalone simulation\n",
      "\n",
      "\n",
      "Loading models from ../model/barrier.ma\n",
      "Loading events from ../model/barrier.ev\n",
      "Running parallel simulation. Reading models partition from \n",
      "Model partition details output to: /dev/null*\n",
      "Message log: ../barrier.log\n",
      "Output to: ../barrier.out\n",
      "Tolerance set to: 1e-08\n",
      "Configuration to show real numbers: Width = 12 - Precision = 5\n",
      "Quantum: Not used\n",
      "Evaluate Debug Mode = OFF\n",
      "Flat Cell Debug Mode = OFF\n",
      "Debug Cell Rules Mode = OFF\n",
      "Temporary File created by Preprocessor = /var/tmp/tmp.0.2PmZ7W\n",
      "Printing parser information = OFF\n",
      "\n",
      "Stop at time: Infinity.\n",
      "LP 0: initializing simulation objects\n",
      "00:00:00:015:0 / in_port /      1.00000\n",
      "00:00:00:030:0 / in_port /      1.00000\n",
      "00:00:00:045:0 / in_port /      1.00000\n",
      "00:00:01:020:0 / in_port /      1.00000\n",
      "00:00:01:040:0 / in_port /      1.00000\n",
      "00:00:03:010:0 / in_port /      1.00000\n",
      "00:00:04:045:0 / in_port /      1.00000\n",
      "00:02:08:045:0 / in_port /      1.00000\n",
      "LP 0: starting simulation (NoTime).\n",
      "Simulation complete!\n",
      "Simulation ended!\n",
      "LP 0 has finished simulation \n"
     ]
    },
    {
     "name": "stderr",
     "output_type": "stream",
     "text": [
      "At 00:02:08:046:0\r"
     ]
    }
   ],
   "source": [
    "%%bash -s \"$CDPP_EXAMPLES\"\n",
    "\n",
    "cd $1/dc-sed-tp1-2022/src/\n",
    "\n",
    "bin/cd++ -m ../model/barrier.ma  \\\n",
    "         -e ../model/barrier.ev  \\\n",
    "         -l ../barrier.log \\\n",
    "         -o ../barrier.out"
   ]
  },
  {
   "cell_type": "markdown",
   "id": "5e0e4c10-3cd2-4419-a847-24d44b1683ca",
   "metadata": {},
   "source": [
    "# Resultados"
   ]
  },
  {
   "cell_type": "code",
   "execution_count": 14,
   "id": "9f89d798-bde1-4232-9a27-d9c66e76767e",
   "metadata": {},
   "outputs": [],
   "source": [
    "import numpy as np\n",
    "import pandas as pd\n",
    "import matplotlib.pyplot as plt\n",
    "import os\n",
    "\n",
    "# definimos los path a los archivos de interés\n",
    "OUT_FILENAME = str(CDPP_EXAMPLES)+\"/dc-sed-tp1-2022/barrier.out\"\n",
    "\n",
    "# definimos los nombres de las columnas en los dataframes de pandas\n",
    "TIME_COL = 'time'\n",
    "PORT_COL = 'port'\n",
    "VALUE_COL = 'value'\n",
    "\n",
    "# conversion a floar\n",
    "def parse_value(value: str):\n",
    "    is_list = value.strip().startswith(\"[\") and value.strip().endswith(\"]\")\n",
    "    if is_list:\n",
    "        return tuple(float(num) for num in value.replace('[', '').replace(']', '').split(', '))\n",
    "    return float(value)\n",
    "\n",
    "# conversion VTime a float\n",
    "def time_to_secs(time):\n",
    "    h, m, s, ms, r = time.split(':')\n",
    "    return float(h)*60*60. + float(m)*60. + float(s) + float(ms)/1000. + float(r)/1000."
   ]
  },
  {
   "cell_type": "code",
   "execution_count": 15,
   "id": "4bac2c92-9cd8-40f9-820c-14037afc6772",
   "metadata": {},
   "outputs": [],
   "source": [
    "df_converters = {\n",
    "    VALUE_COL: parse_value,\n",
    "    TIME_COL: time_to_secs\n",
    "}\n",
    "\n",
    "df_converters = {\n",
    "    VALUE_COL: parse_value,\n",
    "    TIME_COL: time_to_secs\n",
    "}\n",
    "\n",
    "salida = pd.read_csv(OUT_FILENAME,\n",
    "                     delimiter=r'(?<!,)\\s+',\n",
    "                     engine='python',  # C engine doesnt work for regex\n",
    "                     # Se puede usar esto para convertir los valores directamente:\n",
    "                     converters=df_converters,\n",
    "                     names=[TIME_COL, PORT_COL, VALUE_COL]\n",
    "                    )\n",
    "salida"
   ]
  },
  {
   "cell_type": "code",
   "execution_count": null,
   "id": "77463bc9-80c8-47e5-8851-01377eb382c2",
   "metadata": {},
   "outputs": [],
   "source": []
  }
 ],
 "metadata": {
  "kernelspec": {
   "display_name": "Python 3 (ipykernel)",
   "language": "python",
   "name": "python3"
  },
  "language_info": {
   "codemirror_mode": {
    "name": "ipython",
    "version": 3
   },
   "file_extension": ".py",
   "mimetype": "text/x-python",
   "name": "python",
   "nbconvert_exporter": "python",
   "pygments_lexer": "ipython3",
   "version": "3.9.13"
  }
 },
 "nbformat": 4,
 "nbformat_minor": 5
}
