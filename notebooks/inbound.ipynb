{
 "cells": [
  {
   "cell_type": "markdown",
   "id": "6833c268-5e11-4aac-afb1-e0489a88f9de",
   "metadata": {},
   "source": [
    "## Descripcion del problema. Routeo de vehiculos"
   ]
  },
  {
   "cell_type": "markdown",
   "id": "455c1a12-90a5-4586-83b9-d9572b229c8e",
   "metadata": {},
   "source": [
    "Nuestro problema se basa en una situacion de la vida real sobre el routeo de vehiculos. Durante el dia llegan camiones con cierta cantidad de paquetes a un deposito. Cada uno de estos camiones deben ser procesados por el sistema el cual cuenta con varias unidades de procesado en paralelo, llamadas  *Gate*.  "
   ]
  },
  {
   "cell_type": "markdown",
   "id": "8e97843e-5fe0-4917-a21a-f818cd36dc41",
   "metadata": {},
   "source": [
    "Nuestro modelo consiste en los siguientes atomicos: \n",
    "- Un generador, *Router* que crea los camiones con cierta regularidad \n",
    "- Queue, que encola estos camiones previos a ser procesados\n",
    "- *Barrier*, que administra a que *Gate* enviar el camion\n",
    "- *Gate*, que procesa los camiones\n",
    "- *Manager*, que en base a la frecuencia de paquetes actuales si supera cierto umbral envia mensajes a las Gate\n",
    "- *Transducer*, que calcua la frecuencia actual de llegada de camiones"
   ]
  },
  {
   "cell_type": "markdown",
   "id": "5ae4b928-18f9-4399-b84d-38f8f7e583ba",
   "metadata": {},
   "source": [
    "**DIAGRAMA ACA**"
   ]
  },
  {
   "cell_type": "markdown",
   "id": "76c24360-21d6-4021-840b-998d35954346",
   "metadata": {},
   "source": [
    "El sistema se vuelve interesante al considerar que en cada momento las *Gate* pueden estar inactivas por distintas razones o tener distinta cantidad de trabajadores en cada momento del dia y por lo tanto distintas velociaddes de procesamiento. Por lo tanto podemos considerar distintas propiedades:"
   ]
  },
  {
   "cell_type": "markdown",
   "id": "84687072-1ee8-414f-b4f1-efee1914e272",
   "metadata": {},
   "source": [
    "- ¿A que frecuencia de llegada de camiones se satura el sistema?\n",
    "- ¿Como impacta el umbral del Manager a el comportamiento del sistema?\n",
    "- ¿Como cambia el tiempo de procesado en distintos momentos del dia?\n",
    "**MAS PREGUNTAS??**"
   ]
  },
  {
   "cell_type": "markdown",
   "id": "8d0849a8-af4e-43a6-a5a1-95643ba4fccc",
   "metadata": {},
   "source": [
    "## Router"
   ]
  },
  {
   "cell_type": "markdown",
   "id": "c26a12ff-613d-41ac-82bb-a011a3515b1f",
   "metadata": {},
   "source": [
    "Cada camion contiene 3 tipos de paquetes. En la vida real estos son electronicos, comestibles y otros. El router genera cada uno de los camiones por medio de distribuciones ```Poisson``` con promedio de 50 paquetes cada una.\n",
    "\n",
    "Mas interesante es la distribucion de llegada de camiones. Decidimos modelar esto como que en cada dia la llegada de camiones sigue una gaussiana recortada en los extremos que representan el periodo de inactividad donde en la vida real no llegan paquetes. La cantidad de camiones en un mismo dia tambien sigue una gaussiana, de esta forma puede que algunos dias lleguen mas camiones que otros. Un parametro del atomico  ```meanTrucks``` determina este promedio de la gaussiana.\n"
   ]
  },
  {
   "cell_type": "code",
   "execution_count": 36,
   "id": "35f31905-52bf-4a26-bbca-68843d91cee4",
   "metadata": {},
   "outputs": [],
   "source": [
    "import pandas as pd\n",
    "import scipy as sp\n",
    "import matplotlib.pyplot as plt"
   ]
  },
  {
   "cell_type": "markdown",
   "id": "247bc901-2452-41ed-b27b-94f220dd3fd7",
   "metadata": {},
   "source": [
    "En la siguiente celda mostramos un histograma que muestra como llegan los paquetes a lo largo del tiempo para un promedio de 200 camiones por dia"
   ]
  },
  {
   "cell_type": "code",
   "execution_count": 37,
   "id": "1c1ea0aa-3f7a-4e97-bdb8-977fba709df2",
   "metadata": {},
   "outputs": [
    {
     "data": {
      "text/plain": [
       "Text(0, 0.5, 'n de camiones')"
      ]
     },
     "execution_count": 37,
     "metadata": {},
     "output_type": "execute_result"
    },
    {
     "data": {
      "image/png": "[encoded data removed]",
      "text/plain": [
       "<Figure size 432x288 with 1 Axes>"
      ]
     },
     "metadata": {
      "needs_background": "light"
     },
     "output_type": "display_data"
    }
   ],
   "source": [
    "df = pd.read_csv(\"../data/router_arrival200.txt\")\n",
    "plt.hist(df[\"arrival_time\"],50, density=False, facecolor='g', alpha=0.5)\n",
    "plt.xlabel(\"horas\")\n",
    "plt.ylabel(\"n de camiones\")"
   ]
  },
  {
   "cell_type": "markdown",
   "id": "8b6e0019-c23f-481b-bc99-fc6cd93ff8e5",
   "metadata": {},
   "source": [
    "## Barrier"
   ]
  },
  {
   "cell_type": "markdown",
   "id": "7c78cdaa-b541-438d-ac40-b16bc0334fab",
   "metadata": {},
   "source": [
    "## Gate"
   ]
  },
  {
   "cell_type": "markdown",
   "id": "b49017bd-fb07-480c-a371-345146b309df",
   "metadata": {},
   "source": [
    "Una pregunta que nos hicimos es como modelamos el tiempo de procesado del camion. En la realidad las gates tienen cierta cantidad de trabajadores que procesan el camion. Hay trabajadores turno mañana y turno noche. \n",
    "\n",
    "Internamente dentro de la gate simulamos el proceso de multiples trabajadores procesando gates en paralelo. El tiempo procesado de cada paquete por un trabajador sigue una gaussiana que depende del tipo de paquete.\n",
    "\n",
    "A su vez, cada gate tiene un tiempo de actividad en el que se encuentra disponible para procesar camiones y un tiempo en el que se encuentra ```UNAVAILABLE``` y por lo tanto no puede procesar camiones."
   ]
  },
  {
   "cell_type": "markdown",
   "id": "a124c670-137f-4c6f-902a-e804e16d9502",
   "metadata": {},
   "source": [
    "A grandes rasgos la gate tiene 3 estados. \n",
    "- ```UNAVAILABLE```. Cuando la gate se encuentra cerrada\n",
    "- ```BUSY```. Cuando la gate se encuentra procesando un paquete\n",
    "- ```FREE``` Cuando la gate se encuentra disponible"
   ]
  },
  {
   "cell_type": "markdown",
   "id": "438cd74d-6aaa-4b2a-8d09-5605fd2b06ca",
   "metadata": {},
   "source": [
    "<p align=\"center\">\n",
    "    <img src=\"gate.png\"  width=\"700\"/>\n",
    "</p>"
   ]
  },
  {
   "cell_type": "markdown",
   "id": "88cceba9-2cf9-4fe2-9cfa-ca63931348e1",
   "metadata": {},
   "source": [
    "Hay ciertas sutilezas involucradas para mantenerse abierto una vez que te levanto el manger. En resumidas cuentas cuando te levanta el manager hay que ser cuidadoso para que no se vaya a UNAVAILABLE inmediatamente ya que se encuentra fuera de horario."
   ]
  },
  {
   "cell_type": "markdown",
   "id": "619acf0e-da50-4835-b31b-ee422d5e1242",
   "metadata": {},
   "source": [
    "Otra cosa que modelamos es que cuando el manager envia un mensaje a una gate abierta le de un \"boost\" a su velocidad de procesado. Este boost va decayendo exponencialmente a medida que pasa el tiempo"
   ]
  },
  {
   "cell_type": "markdown",
   "id": "c54dc690-30b9-4704-85a1-c4f5603822f6",
   "metadata": {},
   "source": [
    "### Analisis del tiempo de procesado en base a la cantidad de workers"
   ]
  },
  {
   "cell_type": "markdown",
   "id": "d76c1b20-2fa8-4424-bbd9-ff797f227316",
   "metadata": {},
   "source": [
    "Un analisis previo que hicimos es ver como afecta el tiempo de procesado cuando se tiene distinta cantidad de workers."
   ]
  },
  {
   "cell_type": "code",
   "execution_count": 57,
   "id": "3a4bca0e-8a02-4e22-8f61-880ab3c178d2",
   "metadata": {},
   "outputs": [],
   "source": [
    "df = pd.read_csv(\"../data/processing_time_by_workers.txt\")\n"
   ]
  },
  {
   "cell_type": "markdown",
   "id": "6822ff7a-6290-4440-8f77-e4f6ff97c8d1",
   "metadata": {},
   "source": [
    "El tiempo de procesado es una variable aleatoria por lo que vemos las distribuciones para distinta cantidad de workers"
   ]
  },
  {
   "cell_type": "code",
   "execution_count": 58,
   "id": "081958ba-28b4-4e2a-9b47-c9558268eb77",
   "metadata": {},
   "outputs": [
    {
     "data": {
      "text/plain": [
       "<matplotlib.legend.Legend at 0x7f67ab0c9190>"
      ]
     },
     "execution_count": 58,
     "metadata": {},
     "output_type": "execute_result"
    },
    {
     "data": {
      "image/png": "[encoded data removed]",
      "text/plain": [
       "<Figure size 432x288 with 1 Axes>"
      ]
     },
     "metadata": {
      "needs_background": "light"
     },
     "output_type": "display_data"
    }
   ],
   "source": [
    "for n in [1,2,4,6]:\n",
    "    a = df[df[\"workers\"] == n ]\n",
    "    a[\"processing_time\"].plot.kde(label=str(n) + \" workers\")\n",
    "plt.xlabel(\"segundos\")\n",
    "plt.title('Distribucion de tiempo de procesado de camion segun cantidad de workers')\n",
    "plt.tight_layout()\n",
    "plt.legend()\n"
   ]
  },
  {
   "cell_type": "markdown",
   "id": "b7c45cbb-133e-450a-b4cf-183640c52f68",
   "metadata": {},
   "source": [
    "Vemos que para cantidades de workers << paquetes por camion el tiempo decrece inversamente con la cantidad de workers"
   ]
  },
  {
   "cell_type": "markdown",
   "id": "df262226-f0ad-477c-9f10-1d280cfa3184",
   "metadata": {},
   "source": [
    "Tambien analaizamos como cambia el througput con distinta cantidad de workers. Es decier la cantidad de camiones por hora que se pueden procesar con esa cantidad de workers"
   ]
  },
  {
   "cell_type": "code",
   "execution_count": 59,
   "id": "05737a8e-3848-42a5-ab04-0904c6fdf243",
   "metadata": {},
   "outputs": [],
   "source": [
    "import seaborn as sns"
   ]
  },
  {
   "cell_type": "code",
   "execution_count": 66,
   "id": "e0a8dd81-2f49-4d6b-b853-7290a2dd7900",
   "metadata": {},
   "outputs": [
    {
     "data": {
      "text/plain": [
       "Text(0.5, 1.0, 'Camiones por hora segun cantidad de workers')"
      ]
     },
     "execution_count": 66,
     "metadata": {},
     "output_type": "execute_result"
    },
    {
     "data": {
      "image/png": "[encoded data removed]",
      "text/plain": [
       "<Figure size 432x288 with 1 Axes>"
      ]
     },
     "metadata": {
      "needs_background": "light"
     },
     "output_type": "display_data"
    }
   ],
   "source": [
    "sns.lineplot(data=df, x=\"workers\", y=\"trucks per hour\",)\n",
    "plt.title('Camiones por hora segun cantidad de workers')"
   ]
  },
  {
   "cell_type": "markdown",
   "id": "8f38bb14-bea7-4569-8993-96f3991ac461",
   "metadata": {},
   "source": [
    "Como sospechabamos, la efectividad de agregar mas trabajadores disminuye rapidamente cuando se tiene una gran cantidad de workers acercandose a aprox 22 camiones/horas. Naturalmente en nuestro modelo la cantidad de workers varia en valores pequeños pero resultaba interesante observar el comportamiento para grandes cantidades de trabajadores.\n",
    "\n",
    "Ademas esto sirve para obtener una cota superior a la cantidad de camiones por dia que pueden llegar para que no sature:"
   ]
  },
  {
   "cell_type": "markdown",
   "id": "eec7b27b-d09c-4c76-8ead-7b65cb357afb",
   "metadata": {},
   "source": [
    "$$ \\text{cota saturacion} = \\sum_{\\text{gate}} 22 \\text{ camiones/hora} \\cdot \\text{tiempo activo(gate)}))$$"
   ]
  },
  {
   "cell_type": "markdown",
   "id": "430102ef-e465-4b50-9764-7307207fafdf",
   "metadata": {},
   "source": [
    "Con 10 gates abiertas las 24 horas esto equivaldria a 5280 camiones por dia"
   ]
  },
  {
   "cell_type": "markdown",
   "id": "f8f84415-033a-480f-8797-9e51c082090d",
   "metadata": {},
   "source": [
    "## Manager"
   ]
  },
  {
   "cell_type": "code",
   "execution_count": null,
   "id": "f7330bea-4a0b-430b-8e0b-b4b163aa82a8",
   "metadata": {},
   "outputs": [],
   "source": []
  },
  {
   "cell_type": "code",
   "execution_count": null,
   "id": "4d5fb146-694e-47b2-985a-50cec2a772a2",
   "metadata": {},
   "outputs": [],
   "source": [
    "from pathlib import Path\n",
    "\n",
    "SED_HOME = Path.home().joinpath('Documents').joinpath('sed')\n",
    "CDPP_DIR = SED_HOME.joinpath('CDPP')\n",
    "CDPP_EXAMPLES = CDPP_DIR.joinpath('examples')\n",
    "CDPP_SRC = CDPP_DIR.joinpath('src')\n",
    "CDPP_SCRIPTS = CDPP_DIR.joinpath('scripts')\n",
    "BASE_BIN = CDPP_SRC.joinpath('bin')\n",
    "CDPP_ATOMICS = CDPP_SRC.joinpath('cd++/atomics')"
   ]
  },
  {
   "cell_type": "code",
   "execution_count": 2,
   "id": "41a31a4f-97f0-4a60-af6d-9eb710033bb2",
   "metadata": {},
   "outputs": [
    {
     "name": "stdout",
     "output_type": "stream",
     "text": [
      "[top]\n",
      "components : router@router barrier@barrier manager@manager queue@queue transducer@transducer gate1@gate gate2@gate gate3@gate gate4@gate gate5@gate gate6@gate gate7@gate gate8@gate gate9@gate gate10@gate\n",
      "out : out\n",
      "\n",
      "link : out@router in@queue\n",
      "link : outId@router arrived@transducer\n",
      "link : out@queue in@barrier\n",
      "link : throughput@transducer in@manager\n",
      "\n",
      "link : done@barrier done@queue\n",
      "link : done@barrier solved@transducer\n",
      "\n",
      "link : out1@barrier fromBarrier@gate1\n",
      "link : out2@barrier fromBarrier@gate2\n",
      "link : out3@barrier fromBarrier@gate3\n",
      "link : out4@barrier fromBarrier@gate4\n",
      "link : out5@barrier fromBarrier@gate5\n",
      "link : out6@barrier fromBarrier@gate6\n",
      "link : out7@barrier fromBarrier@gate7\n",
      "link : out8@barrier fromBarrier@gate8\n",
      "link : out9@barrier fromBarrier@gate9\n",
      "link : out10@barrier fromBarrier@gate10\n",
      "\n",
      "link : toBarrier@gate1 done1@barrier\n",
      "link : toBarrier@gate2 done2@barrier\n",
      "link : toBarrier@gate3 done3@barrier\n",
      "link : toBarrier@gate4 done4@barrier\n",
      "link : toBarrier@gate5 done5@barrier\n",
      "link : toBarrier@gate6 done6@barrier\n",
      "link : toBarrier@gate7 done7@barrier\n",
      "link : toBarrier@gate8 done8@barrier\n",
      "link : toBarrier@gate9 done9@barrier\n",
      "link : toBarrier@gate10 done10@barrier\n",
      "\n",
      "link : out@gate1 out\n",
      "link : out@gate2 out\n",
      "link : out@gate3 out\n",
      "link : out@gate4 out\n",
      "link : out@gate5 out\n",
      "link : out@gate6 out\n",
      "link : out@gate7 out\n",
      "link : out@gate8 out\n",
      "link : out@gate9 out\n",
      "link : out@gate10 out\n",
      "\n",
      "link : out1@manager fromManager@gate1\n",
      "link : out2@manager fromManager@gate2\n",
      "link : out3@manager fromManager@gate3\n",
      "link : out4@manager fromManager@gate4\n",
      "link : out5@manager fromManager@gate5\n",
      "link : out6@manager fromManager@gate6\n",
      "link : out7@manager fromManager@gate7\n",
      "link : out8@manager fromManager@gate8\n",
      "link : out9@manager fromManager@gate9\n",
      "link : out10@manager fromManager@gate10\n",
      "\n",
      "[router]\n",
      "meanPackets : 150\n",
      "\n",
      "[queue]\n",
      "preparation : 00:00:01:00\n",
      "\n",
      "[transducer]\n",
      "frecuence : 1:0:0:0\n",
      "timeUnit : 1:0:0:0\n",
      "\n",
      "[gate1]\n",
      "startHour : 9 \n",
      "endHour : 20 \n",
      "\n",
      "[gate2]\n",
      "startHour : 9 \n",
      "endHour : 20 \n",
      "\n",
      "[gate3]\n",
      "startHour : 9 \n",
      "endHour : 20 \n",
      "\n",
      "[gate4]\n",
      "startHour : 9 \n",
      "endHour : 20 \n",
      "\n",
      "[gate5]\n",
      "startHour : 9 \n",
      "endHour : 20 \n",
      "\n",
      "[gate6]\n",
      "startHour : 9 \n",
      "endHour : 20 \n",
      "\n",
      "[gate7]\n",
      "startHour : 9 \n",
      "endHour : 20 \n",
      "\n",
      "[gate8]\n",
      "startHour : 9 \n",
      "endHour : 20 \n",
      "\n",
      "[gate9]\n",
      "startHour : 9 \n",
      "endHour : 20 \n",
      "\n",
      "[gate10]\n",
      "startHour : 9 \n",
      "endHour : 20 "
     ]
    }
   ],
   "source": [
    "%%bash -s \"$CDPP_EXAMPLES\"\n",
    "\n",
    "cd $1/dc-sed-tp1-2022/model/\n",
    "\n",
    "cat top.ma"
   ]
  },
  {
   "cell_type": "code",
   "execution_count": 3,
   "id": "fa49b91b-4fd1-4018-a6c8-06566f0a5830",
   "metadata": {},
   "outputs": [
    {
     "name": "stdout",
     "output_type": "stream",
     "text": [
      "PCD++: A Tool to Implement n-Dimensional Cell-DEVS models\n",
      "Version 3.0 - March 2003\n",
      "Troccoli A., Rodriguez D., Wainer G., Barylko A., Beyoglonian J., Lopez A.\n",
      "-----------------------------------------------------------------------------\n",
      "PCD++ Extended States: An extended and improved version of CD++ for Cell-DEVS\n",
      "Version 4.1.2 - December 2018\n",
      "Santi L., Castro, R., Pimás, J.\n",
      "-----------------------------------------------------------------------------\n",
      "Discrete Event Simulation Lab\n",
      "Departamento de Computación\n",
      "Facultad de Ciencias Exactas y Naturales\n",
      "Universidad de Buenos Aires, Argentina\n",
      "-----------------------------------------------------------------------------\n",
      "Compiled for standalone simulation\n",
      "\n",
      "\n",
      "Loading models from ../model/top.ma\n",
      "Loading events from \n",
      "Running parallel simulation. Reading models partition from \n",
      "Model partition details output to: /dev/null*\n",
      "Message log: ../top.log\n",
      "Output to: ../top.out\n",
      "Tolerance set to: 1e-08\n",
      "Configuration to show real numbers: Width = 12 - Precision = 5\n",
      "Quantum: Not used\n",
      "Evaluate Debug Mode = OFF\n",
      "Flat Cell Debug Mode = OFF\n",
      "Debug Cell Rules Mode = OFF\n",
      "Temporary File created by Preprocessor = /var/tmp/tmp.0.SneJiI\n",
      "Printing parser information = OFF\n",
      "\n",
      "Stop at time: 24:00:00:000:0\n",
      "LP 0: initializing simulation objects\n",
      "LP 0: starting simulation (NoTime).\n",
      "Guarda, tiempo negativo!\n",
      "Guarda, tiempo negativo!\n",
      "Guarda, tiempo negativo!\n",
      "Guarda, tiempo negativo!\n",
      "Guarda, tiempo negativo!\n",
      "Guarda, tiempo negativo!\n",
      "Guarda, tiempo negativo!\n",
      "Guarda, tiempo negativo!\n",
      "Guarda, tiempo negativo!\n",
      "Guarda, tiempo negativo!\n",
      "Guarda, tiempo negativo!\n",
      "Simulation complete!\n",
      "Simulation ended!\n",
      "LP 0 has finished simulation \n"
     ]
    },
    {
     "name": "stderr",
     "output_type": "stream",
     "text": [
      "At 24:00:00:000:0.09525318\r"
     ]
    }
   ],
   "source": [
    "%%bash -s \"$CDPP_EXAMPLES\"\n",
    "\n",
    "cd $1/dc-sed-tp1-2022/src/\n",
    "\n",
    "bin/cd++ -m ../model/top.ma  \\\n",
    "         -l ../top.log \\\n",
    "         -o ../top.out \\\n",
    "         -t 240:00:00:00"
   ]
  },
  {
   "cell_type": "markdown",
   "id": "5e0e4c10-3cd2-4419-a847-24d44b1683ca",
   "metadata": {},
   "source": [
    "# Resultados"
   ]
  },
  {
   "cell_type": "code",
   "execution_count": 4,
   "id": "9f89d798-bde1-4232-9a27-d9c66e76767e",
   "metadata": {},
   "outputs": [],
   "source": [
    "import numpy as np\n",
    "import pandas as pd\n",
    "import matplotlib.pyplot as plt\n",
    "import os\n",
    "\n",
    "# definimos los path a los archivos de interés\n",
    "OUT_FILENAME = str(CDPP_EXAMPLES)+\"/dc-sed-tp1-2022/top.out\"\n",
    "\n",
    "# definimos los nombres de las columnas en los dataframes de pandas\n",
    "TIME_COL = 'time'\n",
    "PORT_COL = 'port'\n",
    "VALUE_COL = 'value'\n",
    "\n",
    "# conversion a floar\n",
    "def parse_value(value: str):\n",
    "    is_list = value.strip().startswith(\"[\") and value.strip().endswith(\"]\")\n",
    "    if is_list:\n",
    "        return tuple(float(num) for num in value.replace('[', '').replace(']', '').split(', '))\n",
    "    return float(value)\n",
    "\n",
    "# conversion VTime a float\n",
    "def time_to_secs(time):\n",
    "    h, m, s, ms, r = time.split(':')\n",
    "    return float(h)*60*60. + float(m)*60. + float(s) + float(ms)/1000. + float(r)/1000."
   ]
  },
  {
   "cell_type": "code",
   "execution_count": 5,
   "id": "4bac2c92-9cd8-40f9-820c-14037afc6772",
   "metadata": {},
   "outputs": [
    {
     "data": {
      "text/html": [
       "<div>\n",
       "<style scoped>\n",
       "    .dataframe tbody tr th:only-of-type {\n",
       "        vertical-align: middle;\n",
       "    }\n",
       "\n",
       "    .dataframe tbody tr th {\n",
       "        vertical-align: top;\n",
       "    }\n",
       "\n",
       "    .dataframe thead th {\n",
       "        text-align: right;\n",
       "    }\n",
       "</style>\n",
       "<table border=\"1\" class=\"dataframe\">\n",
       "  <thead>\n",
       "    <tr style=\"text-align: right;\">\n",
       "      <th></th>\n",
       "      <th>time</th>\n",
       "      <th>port</th>\n",
       "      <th>value</th>\n",
       "    </tr>\n",
       "  </thead>\n",
       "  <tbody>\n",
       "    <tr>\n",
       "      <th>0</th>\n",
       "      <td>37685.669791</td>\n",
       "      <td>out</td>\n",
       "      <td>(0.0, 35920.6, 35921.6, 37685.7, 58.0, 47.0, 5...</td>\n",
       "    </tr>\n",
       "    <tr>\n",
       "      <th>1</th>\n",
       "      <td>39042.726895</td>\n",
       "      <td>out</td>\n",
       "      <td>(2.0, 37517.7, 37518.7, 39042.7, 52.0, 65.0, 5...</td>\n",
       "    </tr>\n",
       "    <tr>\n",
       "      <th>2</th>\n",
       "      <td>39083.052884</td>\n",
       "      <td>out</td>\n",
       "      <td>(1.0, 37430.4, 37431.4, 39083.1, 49.0, 50.0, 5...</td>\n",
       "    </tr>\n",
       "    <tr>\n",
       "      <th>3</th>\n",
       "      <td>39720.205586</td>\n",
       "      <td>out</td>\n",
       "      <td>(3.0, 37940.6, 37941.6, 39720.2, 60.0, 53.0, 4...</td>\n",
       "    </tr>\n",
       "    <tr>\n",
       "      <th>4</th>\n",
       "      <td>39830.025520</td>\n",
       "      <td>out</td>\n",
       "      <td>(4.0, 38484.9, 38485.9, 39830.0, 51.0, 50.0, 4...</td>\n",
       "    </tr>\n",
       "    <tr>\n",
       "      <th>...</th>\n",
       "      <td>...</td>\n",
       "      <td>...</td>\n",
       "      <td>...</td>\n",
       "    </tr>\n",
       "    <tr>\n",
       "      <th>170</th>\n",
       "      <td>68303.522702</td>\n",
       "      <td>out</td>\n",
       "      <td>(170.0, 66801.5, 66802.5, 68303.5, 51.0, 50.0,...</td>\n",
       "    </tr>\n",
       "    <tr>\n",
       "      <th>171</th>\n",
       "      <td>69262.372763</td>\n",
       "      <td>out</td>\n",
       "      <td>(172.0, 68302.9, 68303.9, 69262.4, 39.0, 34.0,...</td>\n",
       "    </tr>\n",
       "    <tr>\n",
       "      <th>172</th>\n",
       "      <td>69781.188853</td>\n",
       "      <td>out</td>\n",
       "      <td>(171.0, 68037.6, 68038.6, 69781.2, 61.0, 37.0,...</td>\n",
       "    </tr>\n",
       "    <tr>\n",
       "      <th>173</th>\n",
       "      <td>70546.182873</td>\n",
       "      <td>out</td>\n",
       "      <td>(173.0, 69262.0, 69263.0, 70546.2, 50.0, 54.0,...</td>\n",
       "    </tr>\n",
       "    <tr>\n",
       "      <th>174</th>\n",
       "      <td>73060.996095</td>\n",
       "      <td>out</td>\n",
       "      <td>(174.0, 71457.5, 71458.5, 73061.0, 58.0, 55.0,...</td>\n",
       "    </tr>\n",
       "  </tbody>\n",
       "</table>\n",
       "<p>175 rows × 3 columns</p>\n",
       "</div>"
      ],
      "text/plain": [
       "             time port                                              value\n",
       "0    37685.669791  out  (0.0, 35920.6, 35921.6, 37685.7, 58.0, 47.0, 5...\n",
       "1    39042.726895  out  (2.0, 37517.7, 37518.7, 39042.7, 52.0, 65.0, 5...\n",
       "2    39083.052884  out  (1.0, 37430.4, 37431.4, 39083.1, 49.0, 50.0, 5...\n",
       "3    39720.205586  out  (3.0, 37940.6, 37941.6, 39720.2, 60.0, 53.0, 4...\n",
       "4    39830.025520  out  (4.0, 38484.9, 38485.9, 39830.0, 51.0, 50.0, 4...\n",
       "..            ...  ...                                                ...\n",
       "170  68303.522702  out  (170.0, 66801.5, 66802.5, 68303.5, 51.0, 50.0,...\n",
       "171  69262.372763  out  (172.0, 68302.9, 68303.9, 69262.4, 39.0, 34.0,...\n",
       "172  69781.188853  out  (171.0, 68037.6, 68038.6, 69781.2, 61.0, 37.0,...\n",
       "173  70546.182873  out  (173.0, 69262.0, 69263.0, 70546.2, 50.0, 54.0,...\n",
       "174  73060.996095  out  (174.0, 71457.5, 71458.5, 73061.0, 58.0, 55.0,...\n",
       "\n",
       "[175 rows x 3 columns]"
      ]
     },
     "execution_count": 5,
     "metadata": {},
     "output_type": "execute_result"
    }
   ],
   "source": [
    "df_converters = {\n",
    "    VALUE_COL: parse_value,\n",
    "    TIME_COL: time_to_secs\n",
    "}\n",
    "\n",
    "salida = pd.read_csv(OUT_FILENAME,\n",
    "                     delimiter=r'(?<!,)\\s+',\n",
    "                     engine='python',  # C engine doesnt work for regex\n",
    "                     # Se puede usar esto para convertir los valores directamente:\n",
    "                     converters=df_converters,\n",
    "                     names=[TIME_COL, PORT_COL, VALUE_COL]\n",
    "                    )\n",
    "salida"
   ]
  },
  {
   "cell_type": "code",
   "execution_count": 6,
   "id": "77463bc9-80c8-47e5-8851-01377eb382c2",
   "metadata": {},
   "outputs": [
    {
     "data": {
      "text/html": [
       "<div>\n",
       "<style scoped>\n",
       "    .dataframe tbody tr th:only-of-type {\n",
       "        vertical-align: middle;\n",
       "    }\n",
       "\n",
       "    .dataframe tbody tr th {\n",
       "        vertical-align: top;\n",
       "    }\n",
       "\n",
       "    .dataframe thead th {\n",
       "        text-align: right;\n",
       "    }\n",
       "</style>\n",
       "<table border=\"1\" class=\"dataframe\">\n",
       "  <thead>\n",
       "    <tr style=\"text-align: right;\">\n",
       "      <th></th>\n",
       "      <th>time</th>\n",
       "      <th>port</th>\n",
       "      <th>route_id</th>\n",
       "      <th>arrival_date</th>\n",
       "      <th>assigned_date</th>\n",
       "      <th>exit_date</th>\n",
       "      <th>count_A</th>\n",
       "      <th>count_B</th>\n",
       "      <th>count_C</th>\n",
       "    </tr>\n",
       "  </thead>\n",
       "  <tbody>\n",
       "    <tr>\n",
       "      <th>0</th>\n",
       "      <td>37685.669791</td>\n",
       "      <td>out</td>\n",
       "      <td>0.0</td>\n",
       "      <td>35920.6</td>\n",
       "      <td>35921.6</td>\n",
       "      <td>37685.7</td>\n",
       "      <td>58.0</td>\n",
       "      <td>47.0</td>\n",
       "      <td>52.0</td>\n",
       "    </tr>\n",
       "    <tr>\n",
       "      <th>1</th>\n",
       "      <td>39042.726895</td>\n",
       "      <td>out</td>\n",
       "      <td>2.0</td>\n",
       "      <td>37517.7</td>\n",
       "      <td>37518.7</td>\n",
       "      <td>39042.7</td>\n",
       "      <td>52.0</td>\n",
       "      <td>65.0</td>\n",
       "      <td>51.0</td>\n",
       "    </tr>\n",
       "    <tr>\n",
       "      <th>2</th>\n",
       "      <td>39083.052884</td>\n",
       "      <td>out</td>\n",
       "      <td>1.0</td>\n",
       "      <td>37430.4</td>\n",
       "      <td>37431.4</td>\n",
       "      <td>39083.1</td>\n",
       "      <td>49.0</td>\n",
       "      <td>50.0</td>\n",
       "      <td>59.0</td>\n",
       "    </tr>\n",
       "    <tr>\n",
       "      <th>3</th>\n",
       "      <td>39720.205586</td>\n",
       "      <td>out</td>\n",
       "      <td>3.0</td>\n",
       "      <td>37940.6</td>\n",
       "      <td>37941.6</td>\n",
       "      <td>39720.2</td>\n",
       "      <td>60.0</td>\n",
       "      <td>53.0</td>\n",
       "      <td>43.0</td>\n",
       "    </tr>\n",
       "    <tr>\n",
       "      <th>4</th>\n",
       "      <td>39830.025520</td>\n",
       "      <td>out</td>\n",
       "      <td>4.0</td>\n",
       "      <td>38484.9</td>\n",
       "      <td>38485.9</td>\n",
       "      <td>39830.0</td>\n",
       "      <td>51.0</td>\n",
       "      <td>50.0</td>\n",
       "      <td>47.0</td>\n",
       "    </tr>\n",
       "    <tr>\n",
       "      <th>...</th>\n",
       "      <td>...</td>\n",
       "      <td>...</td>\n",
       "      <td>...</td>\n",
       "      <td>...</td>\n",
       "      <td>...</td>\n",
       "      <td>...</td>\n",
       "      <td>...</td>\n",
       "      <td>...</td>\n",
       "      <td>...</td>\n",
       "    </tr>\n",
       "    <tr>\n",
       "      <th>170</th>\n",
       "      <td>68303.522702</td>\n",
       "      <td>out</td>\n",
       "      <td>170.0</td>\n",
       "      <td>66801.5</td>\n",
       "      <td>66802.5</td>\n",
       "      <td>68303.5</td>\n",
       "      <td>51.0</td>\n",
       "      <td>50.0</td>\n",
       "      <td>61.0</td>\n",
       "    </tr>\n",
       "    <tr>\n",
       "      <th>171</th>\n",
       "      <td>69262.372763</td>\n",
       "      <td>out</td>\n",
       "      <td>172.0</td>\n",
       "      <td>68302.9</td>\n",
       "      <td>68303.9</td>\n",
       "      <td>69262.4</td>\n",
       "      <td>39.0</td>\n",
       "      <td>34.0</td>\n",
       "      <td>49.0</td>\n",
       "    </tr>\n",
       "    <tr>\n",
       "      <th>172</th>\n",
       "      <td>69781.188853</td>\n",
       "      <td>out</td>\n",
       "      <td>171.0</td>\n",
       "      <td>68037.6</td>\n",
       "      <td>68038.6</td>\n",
       "      <td>69781.2</td>\n",
       "      <td>61.0</td>\n",
       "      <td>37.0</td>\n",
       "      <td>48.0</td>\n",
       "    </tr>\n",
       "    <tr>\n",
       "      <th>173</th>\n",
       "      <td>70546.182873</td>\n",
       "      <td>out</td>\n",
       "      <td>173.0</td>\n",
       "      <td>69262.0</td>\n",
       "      <td>69263.0</td>\n",
       "      <td>70546.2</td>\n",
       "      <td>50.0</td>\n",
       "      <td>54.0</td>\n",
       "      <td>51.0</td>\n",
       "    </tr>\n",
       "    <tr>\n",
       "      <th>174</th>\n",
       "      <td>73060.996095</td>\n",
       "      <td>out</td>\n",
       "      <td>174.0</td>\n",
       "      <td>71457.5</td>\n",
       "      <td>71458.5</td>\n",
       "      <td>73061.0</td>\n",
       "      <td>58.0</td>\n",
       "      <td>55.0</td>\n",
       "      <td>59.0</td>\n",
       "    </tr>\n",
       "  </tbody>\n",
       "</table>\n",
       "<p>175 rows × 9 columns</p>\n",
       "</div>"
      ],
      "text/plain": [
       "             time port  route_id  arrival_date  assigned_date  exit_date  \\\n",
       "0    37685.669791  out       0.0       35920.6        35921.6    37685.7   \n",
       "1    39042.726895  out       2.0       37517.7        37518.7    39042.7   \n",
       "2    39083.052884  out       1.0       37430.4        37431.4    39083.1   \n",
       "3    39720.205586  out       3.0       37940.6        37941.6    39720.2   \n",
       "4    39830.025520  out       4.0       38484.9        38485.9    39830.0   \n",
       "..            ...  ...       ...           ...            ...        ...   \n",
       "170  68303.522702  out     170.0       66801.5        66802.5    68303.5   \n",
       "171  69262.372763  out     172.0       68302.9        68303.9    69262.4   \n",
       "172  69781.188853  out     171.0       68037.6        68038.6    69781.2   \n",
       "173  70546.182873  out     173.0       69262.0        69263.0    70546.2   \n",
       "174  73060.996095  out     174.0       71457.5        71458.5    73061.0   \n",
       "\n",
       "     count_A  count_B  count_C  \n",
       "0       58.0     47.0     52.0  \n",
       "1       52.0     65.0     51.0  \n",
       "2       49.0     50.0     59.0  \n",
       "3       60.0     53.0     43.0  \n",
       "4       51.0     50.0     47.0  \n",
       "..       ...      ...      ...  \n",
       "170     51.0     50.0     61.0  \n",
       "171     39.0     34.0     49.0  \n",
       "172     61.0     37.0     48.0  \n",
       "173     50.0     54.0     51.0  \n",
       "174     58.0     55.0     59.0  \n",
       "\n",
       "[175 rows x 9 columns]"
      ]
     },
     "execution_count": 6,
     "metadata": {},
     "output_type": "execute_result"
    }
   ],
   "source": [
    "salida[['route_id', 'arrival_date', 'assigned_date', 'exit_date', 'count_A', 'count_B', 'count_C']] = pd.DataFrame(salida['value'].tolist(), index=salida.index)\n",
    "salida = salida.drop(['value'], axis=1)\n",
    "salida"
   ]
  },
  {
   "cell_type": "code",
   "execution_count": 7,
   "id": "d84000ac-8a7f-4458-a000-d815a4b7967d",
   "metadata": {},
   "outputs": [
    {
     "data": {
      "text/plain": [
       "<AxesSubplot:xlabel='arrival_date'>"
      ]
     },
     "execution_count": 7,
     "metadata": {},
     "output_type": "execute_result"
    },
    {
     "data": {
      "image/png": "[encoded data removed]",
      "text/plain": [
       "<Figure size 640x480 with 1 Axes>"
      ]
     },
     "metadata": {},
     "output_type": "display_data"
    }
   ],
   "source": [
    "salida['total_time'] = salida['exit_date'] - salida['arrival_date']\n",
    "salida.plot(x='arrival_date', y='total_time')"
   ]
  },
  {
   "cell_type": "code",
   "execution_count": null,
   "id": "a5b73ea4-5cfe-4a98-87d8-79b608ab1615",
   "metadata": {},
   "outputs": [],
   "source": []
  }
 ],
 "metadata": {
  "kernelspec": {
   "display_name": "Python 3",
   "language": "python",
   "name": "python3"
  },
  "language_info": {
   "codemirror_mode": {
    "name": "ipython",
    "version": 3
   },
   "file_extension": ".py",
   "mimetype": "text/x-python",
   "name": "python",
   "nbconvert_exporter": "python",
   "pygments_lexer": "ipython3",
   "version": "3.8.13"
  }
 },
 "nbformat": 4,
 "nbformat_minor": 5
}
